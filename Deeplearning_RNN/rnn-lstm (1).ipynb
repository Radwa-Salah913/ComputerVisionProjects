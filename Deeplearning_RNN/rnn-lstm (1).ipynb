{
 "cells": [
  {
   "cell_type": "code",
   "execution_count": 1,
   "id": "6b88ec8d",
   "metadata": {
    "execution": {
     "iopub.execute_input": "2024-12-11T11:10:10.515806Z",
     "iopub.status.busy": "2024-12-11T11:10:10.515395Z",
     "iopub.status.idle": "2024-12-11T11:10:27.943209Z",
     "shell.execute_reply": "2024-12-11T11:10:27.942132Z"
    },
    "papermill": {
     "duration": 17.441546,
     "end_time": "2024-12-11T11:10:27.945752",
     "exception": false,
     "start_time": "2024-12-11T11:10:10.504206",
     "status": "completed"
    },
    "tags": []
   },
   "outputs": [],
   "source": [
    "import pandas as pd\n",
    "import re\n",
    "from tensorflow.keras import models\n",
    "from tensorflow.keras import layers\n",
    "from tensorflow.keras import losses\n",
    "from tensorflow.keras import metrics\n",
    "from tensorflow.keras import optimizers\n",
    "from tensorflow.keras.callbacks import EarlyStopping\n",
    "import pandas as pd\n",
    "import matplotlib.pyplot as plt\n",
    "import seaborn as sns\n",
    "import numpy as np\n",
    "\n",
    "import warnings\n",
    "warnings.filterwarnings('ignore')"
   ]
  },
  {
   "cell_type": "code",
   "execution_count": 2,
   "id": "39f73fe7",
   "metadata": {
    "execution": {
     "iopub.execute_input": "2024-12-11T11:10:27.967985Z",
     "iopub.status.busy": "2024-12-11T11:10:27.966539Z",
     "iopub.status.idle": "2024-12-11T11:10:28.122268Z",
     "shell.execute_reply": "2024-12-11T11:10:28.121006Z"
    },
    "papermill": {
     "duration": 0.169593,
     "end_time": "2024-12-11T11:10:28.124654",
     "exception": false,
     "start_time": "2024-12-11T11:10:27.955061",
     "status": "completed"
    },
    "tags": []
   },
   "outputs": [],
   "source": [
    "df=pd.read_csv(\"/kaggle/input/text-document-classification-dataset/df_file.csv\")"
   ]
  },
  {
   "cell_type": "code",
   "execution_count": 3,
   "id": "1ef4b6bf",
   "metadata": {
    "execution": {
     "iopub.execute_input": "2024-12-11T11:10:28.144050Z",
     "iopub.status.busy": "2024-12-11T11:10:28.143653Z",
     "iopub.status.idle": "2024-12-11T11:10:28.149554Z",
     "shell.execute_reply": "2024-12-11T11:10:28.148297Z"
    },
    "papermill": {
     "duration": 0.018387,
     "end_time": "2024-12-11T11:10:28.152060",
     "exception": false,
     "start_time": "2024-12-11T11:10:28.133673",
     "status": "completed"
    },
    "tags": []
   },
   "outputs": [
    {
     "name": "stdout",
     "output_type": "stream",
     "text": [
      "(2225, 2)\n"
     ]
    }
   ],
   "source": [
    "print(df.shape)"
   ]
  },
  {
   "cell_type": "code",
   "execution_count": 4,
   "id": "469d3af1",
   "metadata": {
    "execution": {
     "iopub.execute_input": "2024-12-11T11:10:28.172700Z",
     "iopub.status.busy": "2024-12-11T11:10:28.172292Z",
     "iopub.status.idle": "2024-12-11T11:10:28.198544Z",
     "shell.execute_reply": "2024-12-11T11:10:28.197352Z"
    },
    "papermill": {
     "duration": 0.038715,
     "end_time": "2024-12-11T11:10:28.200982",
     "exception": false,
     "start_time": "2024-12-11T11:10:28.162267",
     "status": "completed"
    },
    "tags": []
   },
   "outputs": [
    {
     "data": {
      "text/html": [
       "<div>\n",
       "<style scoped>\n",
       "    .dataframe tbody tr th:only-of-type {\n",
       "        vertical-align: middle;\n",
       "    }\n",
       "\n",
       "    .dataframe tbody tr th {\n",
       "        vertical-align: top;\n",
       "    }\n",
       "\n",
       "    .dataframe thead th {\n",
       "        text-align: right;\n",
       "    }\n",
       "</style>\n",
       "<table border=\"1\" class=\"dataframe\">\n",
       "  <thead>\n",
       "    <tr style=\"text-align: right;\">\n",
       "      <th></th>\n",
       "      <th>Text</th>\n",
       "      <th>Label</th>\n",
       "    </tr>\n",
       "  </thead>\n",
       "  <tbody>\n",
       "    <tr>\n",
       "      <th>0</th>\n",
       "      <td>Budget to set scene for election\\n \\n Gordon B...</td>\n",
       "      <td>0</td>\n",
       "    </tr>\n",
       "    <tr>\n",
       "      <th>1</th>\n",
       "      <td>Army chiefs in regiments decision\\n \\n Militar...</td>\n",
       "      <td>0</td>\n",
       "    </tr>\n",
       "    <tr>\n",
       "      <th>2</th>\n",
       "      <td>Howard denies split over ID cards\\n \\n Michael...</td>\n",
       "      <td>0</td>\n",
       "    </tr>\n",
       "    <tr>\n",
       "      <th>3</th>\n",
       "      <td>Observers to monitor UK election\\n \\n Minister...</td>\n",
       "      <td>0</td>\n",
       "    </tr>\n",
       "    <tr>\n",
       "      <th>4</th>\n",
       "      <td>Kilroy names election seat target\\n \\n Ex-chat...</td>\n",
       "      <td>0</td>\n",
       "    </tr>\n",
       "  </tbody>\n",
       "</table>\n",
       "</div>"
      ],
      "text/plain": [
       "                                                Text  Label\n",
       "0  Budget to set scene for election\\n \\n Gordon B...      0\n",
       "1  Army chiefs in regiments decision\\n \\n Militar...      0\n",
       "2  Howard denies split over ID cards\\n \\n Michael...      0\n",
       "3  Observers to monitor UK election\\n \\n Minister...      0\n",
       "4  Kilroy names election seat target\\n \\n Ex-chat...      0"
      ]
     },
     "execution_count": 4,
     "metadata": {},
     "output_type": "execute_result"
    }
   ],
   "source": [
    "df.head()"
   ]
  },
  {
   "cell_type": "markdown",
   "id": "6998c8e5",
   "metadata": {
    "papermill": {
     "duration": 0.008757,
     "end_time": "2024-12-11T11:10:28.218887",
     "exception": false,
     "start_time": "2024-12-11T11:10:28.210130",
     "status": "completed"
    },
    "tags": []
   },
   "source": [
    "# Cleaning The data"
   ]
  },
  {
   "cell_type": "markdown",
   "id": "f2b70e00",
   "metadata": {
    "papermill": {
     "duration": 0.008551,
     "end_time": "2024-12-11T11:10:28.236418",
     "exception": false,
     "start_time": "2024-12-11T11:10:28.227867",
     "status": "completed"
    },
    "tags": []
   },
   "source": [
    "**Rename columns**"
   ]
  },
  {
   "cell_type": "code",
   "execution_count": 5,
   "id": "718af0e3",
   "metadata": {
    "execution": {
     "iopub.execute_input": "2024-12-11T11:10:28.255922Z",
     "iopub.status.busy": "2024-12-11T11:10:28.255494Z",
     "iopub.status.idle": "2024-12-11T11:10:28.261151Z",
     "shell.execute_reply": "2024-12-11T11:10:28.259972Z"
    },
    "papermill": {
     "duration": 0.018341,
     "end_time": "2024-12-11T11:10:28.263650",
     "exception": false,
     "start_time": "2024-12-11T11:10:28.245309",
     "status": "completed"
    },
    "tags": []
   },
   "outputs": [],
   "source": [
    "df.columns=df.columns.str.lower()"
   ]
  },
  {
   "cell_type": "markdown",
   "id": "3034eb3c",
   "metadata": {
    "papermill": {
     "duration": 0.009996,
     "end_time": "2024-12-11T11:10:28.283113",
     "exception": false,
     "start_time": "2024-12-11T11:10:28.273117",
     "status": "completed"
    },
    "tags": []
   },
   "source": [
    "**Check Null values**"
   ]
  },
  {
   "cell_type": "code",
   "execution_count": 6,
   "id": "83bb33e7",
   "metadata": {
    "execution": {
     "iopub.execute_input": "2024-12-11T11:10:28.304550Z",
     "iopub.status.busy": "2024-12-11T11:10:28.303510Z",
     "iopub.status.idle": "2024-12-11T11:10:28.526789Z",
     "shell.execute_reply": "2024-12-11T11:10:28.525754Z"
    },
    "papermill": {
     "duration": 0.236064,
     "end_time": "2024-12-11T11:10:28.529165",
     "exception": false,
     "start_time": "2024-12-11T11:10:28.293101",
     "status": "completed"
    },
    "tags": []
   },
   "outputs": [
    {
     "data": {
      "text/plain": [
       "0"
      ]
     },
     "execution_count": 6,
     "metadata": {},
     "output_type": "execute_result"
    }
   ],
   "source": [
    "df['text'].isna().sum()"
   ]
  },
  {
   "cell_type": "markdown",
   "id": "1fe56f45",
   "metadata": {
    "papermill": {
     "duration": 0.009053,
     "end_time": "2024-12-11T11:10:28.547425",
     "exception": false,
     "start_time": "2024-12-11T11:10:28.538372",
     "status": "completed"
    },
    "tags": []
   },
   "source": [
    "**Remove digits**"
   ]
  },
  {
   "cell_type": "code",
   "execution_count": 7,
   "id": "0d0b50d0",
   "metadata": {
    "execution": {
     "iopub.execute_input": "2024-12-11T11:10:28.567781Z",
     "iopub.status.busy": "2024-12-11T11:10:28.567356Z",
     "iopub.status.idle": "2024-12-11T11:10:28.572793Z",
     "shell.execute_reply": "2024-12-11T11:10:28.571354Z"
    },
    "papermill": {
     "duration": 0.018623,
     "end_time": "2024-12-11T11:10:28.575188",
     "exception": false,
     "start_time": "2024-12-11T11:10:28.556565",
     "status": "completed"
    },
    "tags": []
   },
   "outputs": [],
   "source": [
    "def remove_digits(text):\n",
    "    return re.sub('\\d+','',text)"
   ]
  },
  {
   "cell_type": "code",
   "execution_count": 8,
   "id": "f07c8675",
   "metadata": {
    "execution": {
     "iopub.execute_input": "2024-12-11T11:10:28.595073Z",
     "iopub.status.busy": "2024-12-11T11:10:28.594700Z",
     "iopub.status.idle": "2024-12-11T11:10:28.713850Z",
     "shell.execute_reply": "2024-12-11T11:10:28.712905Z"
    },
    "papermill": {
     "duration": 0.131665,
     "end_time": "2024-12-11T11:10:28.716118",
     "exception": false,
     "start_time": "2024-12-11T11:10:28.584453",
     "status": "completed"
    },
    "tags": []
   },
   "outputs": [],
   "source": [
    "df['cleaned_text']=df['text'].apply(lambda x:remove_digits(x))"
   ]
  },
  {
   "cell_type": "markdown",
   "id": "fd08c253",
   "metadata": {
    "papermill": {
     "duration": 0.008618,
     "end_time": "2024-12-11T11:10:28.733904",
     "exception": false,
     "start_time": "2024-12-11T11:10:28.725286",
     "status": "completed"
    },
    "tags": []
   },
   "source": [
    "**Remove punctuations**"
   ]
  },
  {
   "cell_type": "code",
   "execution_count": 9,
   "id": "e9a843c4",
   "metadata": {
    "execution": {
     "iopub.execute_input": "2024-12-11T11:10:28.753475Z",
     "iopub.status.busy": "2024-12-11T11:10:28.753082Z",
     "iopub.status.idle": "2024-12-11T11:10:28.757994Z",
     "shell.execute_reply": "2024-12-11T11:10:28.756829Z"
    },
    "papermill": {
     "duration": 0.017383,
     "end_time": "2024-12-11T11:10:28.760229",
     "exception": false,
     "start_time": "2024-12-11T11:10:28.742846",
     "status": "completed"
    },
    "tags": []
   },
   "outputs": [],
   "source": [
    "import string\n",
    "exclude=string.punctuation"
   ]
  },
  {
   "cell_type": "code",
   "execution_count": 10,
   "id": "7c38abac",
   "metadata": {
    "execution": {
     "iopub.execute_input": "2024-12-11T11:10:28.780408Z",
     "iopub.status.busy": "2024-12-11T11:10:28.779999Z",
     "iopub.status.idle": "2024-12-11T11:10:28.785158Z",
     "shell.execute_reply": "2024-12-11T11:10:28.784188Z"
    },
    "papermill": {
     "duration": 0.017925,
     "end_time": "2024-12-11T11:10:28.787500",
     "exception": false,
     "start_time": "2024-12-11T11:10:28.769575",
     "status": "completed"
    },
    "tags": []
   },
   "outputs": [],
   "source": [
    "def remove_punc(text):\n",
    "    for i in exclude:\n",
    "        text.replace(i,'')\n",
    "    return text   "
   ]
  },
  {
   "cell_type": "code",
   "execution_count": 11,
   "id": "ac21f0e3",
   "metadata": {
    "execution": {
     "iopub.execute_input": "2024-12-11T11:10:28.807840Z",
     "iopub.status.busy": "2024-12-11T11:10:28.807437Z",
     "iopub.status.idle": "2024-12-11T11:10:28.906090Z",
     "shell.execute_reply": "2024-12-11T11:10:28.904894Z"
    },
    "papermill": {
     "duration": 0.111938,
     "end_time": "2024-12-11T11:10:28.908691",
     "exception": false,
     "start_time": "2024-12-11T11:10:28.796753",
     "status": "completed"
    },
    "tags": []
   },
   "outputs": [],
   "source": [
    "df['cleaned_text']=df['cleaned_text'].apply(lambda x:remove_punc(x))"
   ]
  },
  {
   "cell_type": "markdown",
   "id": "32f594ee",
   "metadata": {
    "papermill": {
     "duration": 0.008728,
     "end_time": "2024-12-11T11:10:28.926577",
     "exception": false,
     "start_time": "2024-12-11T11:10:28.917849",
     "status": "completed"
    },
    "tags": []
   },
   "source": [
    "**Remove Stopwords**"
   ]
  },
  {
   "cell_type": "code",
   "execution_count": 12,
   "id": "452db040",
   "metadata": {
    "execution": {
     "iopub.execute_input": "2024-12-11T11:10:28.946799Z",
     "iopub.status.busy": "2024-12-11T11:10:28.946385Z",
     "iopub.status.idle": "2024-12-11T11:10:30.004863Z",
     "shell.execute_reply": "2024-12-11T11:10:30.003680Z"
    },
    "papermill": {
     "duration": 1.071823,
     "end_time": "2024-12-11T11:10:30.007376",
     "exception": false,
     "start_time": "2024-12-11T11:10:28.935553",
     "status": "completed"
    },
    "tags": []
   },
   "outputs": [],
   "source": [
    "from nltk.corpus import stopwords\n",
    "stopwords=stopwords.words('english')\n",
    "\n",
    "def remove_stopwords(text):\n",
    "    new=' '.join(word for word in text.split() if word.lower not in stopwords)\n",
    "    return new"
   ]
  },
  {
   "cell_type": "code",
   "execution_count": 13,
   "id": "67fa44ca",
   "metadata": {
    "execution": {
     "iopub.execute_input": "2024-12-11T11:10:30.029872Z",
     "iopub.status.busy": "2024-12-11T11:10:30.029418Z",
     "iopub.status.idle": "2024-12-11T11:10:33.565422Z",
     "shell.execute_reply": "2024-12-11T11:10:33.564215Z"
    },
    "papermill": {
     "duration": 3.550113,
     "end_time": "2024-12-11T11:10:33.568005",
     "exception": false,
     "start_time": "2024-12-11T11:10:30.017892",
     "status": "completed"
    },
    "tags": []
   },
   "outputs": [],
   "source": [
    "df['cleaned_text']=df['cleaned_text'].apply(lambda x:remove_stopwords(x))"
   ]
  },
  {
   "cell_type": "markdown",
   "id": "48ecb1a6",
   "metadata": {
    "papermill": {
     "duration": 0.009645,
     "end_time": "2024-12-11T11:10:33.586841",
     "exception": false,
     "start_time": "2024-12-11T11:10:33.577196",
     "status": "completed"
    },
    "tags": []
   },
   "source": [
    "**Remove emojis**"
   ]
  },
  {
   "cell_type": "code",
   "execution_count": 14,
   "id": "0fe7653a",
   "metadata": {
    "execution": {
     "iopub.execute_input": "2024-12-11T11:10:33.606806Z",
     "iopub.status.busy": "2024-12-11T11:10:33.606397Z",
     "iopub.status.idle": "2024-12-11T11:10:38.291670Z",
     "shell.execute_reply": "2024-12-11T11:10:38.290656Z"
    },
    "papermill": {
     "duration": 4.698142,
     "end_time": "2024-12-11T11:10:38.294211",
     "exception": false,
     "start_time": "2024-12-11T11:10:33.596069",
     "status": "completed"
    },
    "tags": []
   },
   "outputs": [],
   "source": [
    "import emoji\n",
    "df['cleaned_text']=df['cleaned_text'].apply(emoji.demojize)"
   ]
  },
  {
   "cell_type": "markdown",
   "id": "944d53c6",
   "metadata": {
    "papermill": {
     "duration": 0.0088,
     "end_time": "2024-12-11T11:10:38.312912",
     "exception": false,
     "start_time": "2024-12-11T11:10:38.304112",
     "status": "completed"
    },
    "tags": []
   },
   "source": [
    "# Prepare data for the RNN Model"
   ]
  },
  {
   "cell_type": "markdown",
   "id": "734f15fb",
   "metadata": {
    "papermill": {
     "duration": 0.008847,
     "end_time": "2024-12-11T11:10:38.330798",
     "exception": false,
     "start_time": "2024-12-11T11:10:38.321951",
     "status": "completed"
    },
    "tags": []
   },
   "source": [
    "**build vocabulary for the most appearance words**"
   ]
  },
  {
   "cell_type": "code",
   "execution_count": 15,
   "id": "7e39c6d5",
   "metadata": {
    "execution": {
     "iopub.execute_input": "2024-12-11T11:10:38.352102Z",
     "iopub.status.busy": "2024-12-11T11:10:38.351706Z",
     "iopub.status.idle": "2024-12-11T11:10:39.130951Z",
     "shell.execute_reply": "2024-12-11T11:10:39.129832Z"
    },
    "papermill": {
     "duration": 0.793333,
     "end_time": "2024-12-11T11:10:39.133348",
     "exception": false,
     "start_time": "2024-12-11T11:10:38.340015",
     "status": "completed"
    },
    "tags": []
   },
   "outputs": [],
   "source": [
    "# build vocabulary for the most appearance words\n",
    "from tensorflow.keras.preprocessing.text import Tokenizer\n",
    "\n",
    "vocab_sz = 10000\n",
    "\n",
    "tok = Tokenizer(num_words=vocab_sz, oov_token='UNK')\n",
    "tok.fit_on_texts(df['cleaned_text'])\n"
   ]
  },
  {
   "cell_type": "markdown",
   "id": "6bfe1121",
   "metadata": {
    "papermill": {
     "duration": 0.009113,
     "end_time": "2024-12-11T11:10:39.151628",
     "exception": false,
     "start_time": "2024-12-11T11:10:39.142515",
     "status": "completed"
    },
    "tags": []
   },
   "source": [
    "**Split data**"
   ]
  },
  {
   "cell_type": "code",
   "execution_count": 16,
   "id": "571c2ed1",
   "metadata": {
    "execution": {
     "iopub.execute_input": "2024-12-11T11:10:39.171059Z",
     "iopub.status.busy": "2024-12-11T11:10:39.170629Z",
     "iopub.status.idle": "2024-12-11T11:10:39.176246Z",
     "shell.execute_reply": "2024-12-11T11:10:39.174988Z"
    },
    "papermill": {
     "duration": 0.018029,
     "end_time": "2024-12-11T11:10:39.178524",
     "exception": false,
     "start_time": "2024-12-11T11:10:39.160495",
     "status": "completed"
    },
    "tags": []
   },
   "outputs": [],
   "source": [
    "x=df['cleaned_text']\n",
    "y=df['label']"
   ]
  },
  {
   "cell_type": "code",
   "execution_count": 17,
   "id": "2da620d3",
   "metadata": {
    "execution": {
     "iopub.execute_input": "2024-12-11T11:10:39.198129Z",
     "iopub.status.busy": "2024-12-11T11:10:39.197719Z",
     "iopub.status.idle": "2024-12-11T11:10:39.211047Z",
     "shell.execute_reply": "2024-12-11T11:10:39.209868Z"
    },
    "papermill": {
     "duration": 0.025972,
     "end_time": "2024-12-11T11:10:39.213499",
     "exception": false,
     "start_time": "2024-12-11T11:10:39.187527",
     "status": "completed"
    },
    "tags": []
   },
   "outputs": [],
   "source": [
    "from sklearn.model_selection import train_test_split\n",
    "x_train,x_test,y_train,y_test=train_test_split(x,y,test_size=0.2,random_state=42)"
   ]
  },
  {
   "cell_type": "markdown",
   "id": "64824ab2",
   "metadata": {
    "papermill": {
     "duration": 0.008485,
     "end_time": "2024-12-11T11:10:39.231118",
     "exception": false,
     "start_time": "2024-12-11T11:10:39.222633",
     "status": "completed"
    },
    "tags": []
   },
   "source": [
    "**Word Embedding**"
   ]
  },
  {
   "cell_type": "code",
   "execution_count": 18,
   "id": "cdeec064",
   "metadata": {
    "execution": {
     "iopub.execute_input": "2024-12-11T11:10:39.250682Z",
     "iopub.status.busy": "2024-12-11T11:10:39.250273Z",
     "iopub.status.idle": "2024-12-11T11:10:39.791510Z",
     "shell.execute_reply": "2024-12-11T11:10:39.790524Z"
    },
    "papermill": {
     "duration": 0.553837,
     "end_time": "2024-12-11T11:10:39.793851",
     "exception": false,
     "start_time": "2024-12-11T11:10:39.240014",
     "status": "completed"
    },
    "tags": []
   },
   "outputs": [],
   "source": [
    "x_train_seq = tok.texts_to_sequences(x_train)\n",
    "x_test_seq = tok.texts_to_sequences(x_test)"
   ]
  },
  {
   "cell_type": "markdown",
   "id": "6440bef3",
   "metadata": {
    "papermill": {
     "duration": 0.008774,
     "end_time": "2024-12-11T11:10:39.811714",
     "exception": false,
     "start_time": "2024-12-11T11:10:39.802940",
     "status": "completed"
    },
    "tags": []
   },
   "source": [
    "**calculate maxmium lengh of sequence**"
   ]
  },
  {
   "cell_type": "code",
   "execution_count": 19,
   "id": "e2dd6f32",
   "metadata": {
    "execution": {
     "iopub.execute_input": "2024-12-11T11:10:39.831360Z",
     "iopub.status.busy": "2024-12-11T11:10:39.830942Z",
     "iopub.status.idle": "2024-12-11T11:10:45.933739Z",
     "shell.execute_reply": "2024-12-11T11:10:45.932466Z"
    },
    "papermill": {
     "duration": 6.115352,
     "end_time": "2024-12-11T11:10:45.935931",
     "exception": false,
     "start_time": "2024-12-11T11:10:39.820579",
     "status": "completed"
    },
    "tags": []
   },
   "outputs": [],
   "source": [
    "from nltk.tokenize import word_tokenize\n",
    "\n",
    "def get_max_len(texts):\n",
    "  return max([len(word_tokenize(text)) for text in texts])\n",
    "    \n",
    "maxlen = get_max_len(df['cleaned_text'])"
   ]
  },
  {
   "cell_type": "markdown",
   "id": "deda5389",
   "metadata": {
    "papermill": {
     "duration": 0.008651,
     "end_time": "2024-12-11T11:10:45.953772",
     "exception": false,
     "start_time": "2024-12-11T11:10:45.945121",
     "status": "completed"
    },
    "tags": []
   },
   "source": [
    "**Pad sequences to ensure that all input sequences have the same length**"
   ]
  },
  {
   "cell_type": "code",
   "execution_count": 20,
   "id": "3e491c14",
   "metadata": {
    "execution": {
     "iopub.execute_input": "2024-12-11T11:10:45.973953Z",
     "iopub.status.busy": "2024-12-11T11:10:45.973533Z",
     "iopub.status.idle": "2024-12-11T11:10:46.041656Z",
     "shell.execute_reply": "2024-12-11T11:10:46.040465Z"
    },
    "papermill": {
     "duration": 0.080869,
     "end_time": "2024-12-11T11:10:46.044023",
     "exception": false,
     "start_time": "2024-12-11T11:10:45.963154",
     "status": "completed"
    },
    "tags": []
   },
   "outputs": [],
   "source": [
    "from tensorflow.keras.preprocessing.sequence import pad_sequences\n",
    "\n",
    "x_train = pad_sequences(x_train_seq, maxlen=maxlen, padding='post', truncating='post')  \n",
    "x_test = pad_sequences(x_test_seq, maxlen=maxlen, padding='post', truncating='post')"
   ]
  },
  {
   "cell_type": "code",
   "execution_count": null,
   "id": "c5d2b82b",
   "metadata": {
    "papermill": {
     "duration": 0.008571,
     "end_time": "2024-12-11T11:10:46.061710",
     "exception": false,
     "start_time": "2024-12-11T11:10:46.053139",
     "status": "completed"
    },
    "tags": []
   },
   "outputs": [],
   "source": []
  },
  {
   "cell_type": "markdown",
   "id": "ee5dd62d",
   "metadata": {
    "papermill": {
     "duration": 0.009202,
     "end_time": "2024-12-11T11:10:46.079835",
     "exception": false,
     "start_time": "2024-12-11T11:10:46.070633",
     "status": "completed"
    },
    "tags": []
   },
   "source": [
    "# RNN"
   ]
  },
  {
   "cell_type": "code",
   "execution_count": 21,
   "id": "951d9a5e",
   "metadata": {
    "execution": {
     "iopub.execute_input": "2024-12-11T11:10:46.101124Z",
     "iopub.status.busy": "2024-12-11T11:10:46.100272Z",
     "iopub.status.idle": "2024-12-11T11:10:46.105488Z",
     "shell.execute_reply": "2024-12-11T11:10:46.104171Z"
    },
    "papermill": {
     "duration": 0.018121,
     "end_time": "2024-12-11T11:10:46.107679",
     "exception": false,
     "start_time": "2024-12-11T11:10:46.089558",
     "status": "completed"
    },
    "tags": []
   },
   "outputs": [],
   "source": [
    "embedding_size = 100"
   ]
  },
  {
   "cell_type": "code",
   "execution_count": 22,
   "id": "13785490",
   "metadata": {
    "execution": {
     "iopub.execute_input": "2024-12-11T11:10:46.127647Z",
     "iopub.status.busy": "2024-12-11T11:10:46.126892Z",
     "iopub.status.idle": "2024-12-11T11:10:46.338417Z",
     "shell.execute_reply": "2024-12-11T11:10:46.337280Z"
    },
    "papermill": {
     "duration": 0.223946,
     "end_time": "2024-12-11T11:10:46.340707",
     "exception": false,
     "start_time": "2024-12-11T11:10:46.116761",
     "status": "completed"
    },
    "tags": []
   },
   "outputs": [
    {
     "data": {
      "text/html": [
       "<pre style=\"white-space:pre;overflow-x:auto;line-height:normal;font-family:Menlo,'DejaVu Sans Mono',consolas,'Courier New',monospace\"><span style=\"font-weight: bold\">Model: \"sequential\"</span>\n",
       "</pre>\n"
      ],
      "text/plain": [
       "\u001b[1mModel: \"sequential\"\u001b[0m\n"
      ]
     },
     "metadata": {},
     "output_type": "display_data"
    },
    {
     "data": {
      "text/html": [
       "<pre style=\"white-space:pre;overflow-x:auto;line-height:normal;font-family:Menlo,'DejaVu Sans Mono',consolas,'Courier New',monospace\">┏━━━━━━━━━━━━━━━━━━━━━━━━━━━━━━━━━┳━━━━━━━━━━━━━━━━━━━━━━━━┳━━━━━━━━━━━━━━━┓\n",
       "┃<span style=\"font-weight: bold\"> Layer (type)                    </span>┃<span style=\"font-weight: bold\"> Output Shape           </span>┃<span style=\"font-weight: bold\">       Param # </span>┃\n",
       "┡━━━━━━━━━━━━━━━━━━━━━━━━━━━━━━━━━╇━━━━━━━━━━━━━━━━━━━━━━━━╇━━━━━━━━━━━━━━━┩\n",
       "│ embedding (<span style=\"color: #0087ff; text-decoration-color: #0087ff\">Embedding</span>)           │ (<span style=\"color: #00d7ff; text-decoration-color: #00d7ff\">None</span>, <span style=\"color: #00af00; text-decoration-color: #00af00\">4950</span>, <span style=\"color: #00af00; text-decoration-color: #00af00\">100</span>)      │     <span style=\"color: #00af00; text-decoration-color: #00af00\">1,000,100</span> │\n",
       "├─────────────────────────────────┼────────────────────────┼───────────────┤\n",
       "│ simple_rnn (<span style=\"color: #0087ff; text-decoration-color: #0087ff\">SimpleRNN</span>)          │ (<span style=\"color: #00d7ff; text-decoration-color: #00d7ff\">None</span>, <span style=\"color: #00af00; text-decoration-color: #00af00\">4950</span>, <span style=\"color: #00af00; text-decoration-color: #00af00\">100</span>)      │        <span style=\"color: #00af00; text-decoration-color: #00af00\">20,100</span> │\n",
       "├─────────────────────────────────┼────────────────────────┼───────────────┤\n",
       "│ dropout (<span style=\"color: #0087ff; text-decoration-color: #0087ff\">Dropout</span>)               │ (<span style=\"color: #00d7ff; text-decoration-color: #00d7ff\">None</span>, <span style=\"color: #00af00; text-decoration-color: #00af00\">4950</span>, <span style=\"color: #00af00; text-decoration-color: #00af00\">100</span>)      │             <span style=\"color: #00af00; text-decoration-color: #00af00\">0</span> │\n",
       "├─────────────────────────────────┼────────────────────────┼───────────────┤\n",
       "│ simple_rnn_1 (<span style=\"color: #0087ff; text-decoration-color: #0087ff\">SimpleRNN</span>)        │ (<span style=\"color: #00d7ff; text-decoration-color: #00d7ff\">None</span>, <span style=\"color: #00af00; text-decoration-color: #00af00\">4950</span>, <span style=\"color: #00af00; text-decoration-color: #00af00\">100</span>)      │        <span style=\"color: #00af00; text-decoration-color: #00af00\">20,100</span> │\n",
       "├─────────────────────────────────┼────────────────────────┼───────────────┤\n",
       "│ dropout_1 (<span style=\"color: #0087ff; text-decoration-color: #0087ff\">Dropout</span>)             │ (<span style=\"color: #00d7ff; text-decoration-color: #00d7ff\">None</span>, <span style=\"color: #00af00; text-decoration-color: #00af00\">4950</span>, <span style=\"color: #00af00; text-decoration-color: #00af00\">100</span>)      │             <span style=\"color: #00af00; text-decoration-color: #00af00\">0</span> │\n",
       "├─────────────────────────────────┼────────────────────────┼───────────────┤\n",
       "│ simple_rnn_2 (<span style=\"color: #0087ff; text-decoration-color: #0087ff\">SimpleRNN</span>)        │ (<span style=\"color: #00d7ff; text-decoration-color: #00d7ff\">None</span>, <span style=\"color: #00af00; text-decoration-color: #00af00\">100</span>)            │        <span style=\"color: #00af00; text-decoration-color: #00af00\">20,100</span> │\n",
       "├─────────────────────────────────┼────────────────────────┼───────────────┤\n",
       "│ dropout_2 (<span style=\"color: #0087ff; text-decoration-color: #0087ff\">Dropout</span>)             │ (<span style=\"color: #00d7ff; text-decoration-color: #00d7ff\">None</span>, <span style=\"color: #00af00; text-decoration-color: #00af00\">100</span>)            │             <span style=\"color: #00af00; text-decoration-color: #00af00\">0</span> │\n",
       "├─────────────────────────────────┼────────────────────────┼───────────────┤\n",
       "│ dense (<span style=\"color: #0087ff; text-decoration-color: #0087ff\">Dense</span>)                   │ (<span style=\"color: #00d7ff; text-decoration-color: #00d7ff\">None</span>, <span style=\"color: #00af00; text-decoration-color: #00af00\">64</span>)             │         <span style=\"color: #00af00; text-decoration-color: #00af00\">6,464</span> │\n",
       "├─────────────────────────────────┼────────────────────────┼───────────────┤\n",
       "│ batch_normalization             │ (<span style=\"color: #00d7ff; text-decoration-color: #00d7ff\">None</span>, <span style=\"color: #00af00; text-decoration-color: #00af00\">64</span>)             │           <span style=\"color: #00af00; text-decoration-color: #00af00\">256</span> │\n",
       "│ (<span style=\"color: #0087ff; text-decoration-color: #0087ff\">BatchNormalization</span>)            │                        │               │\n",
       "├─────────────────────────────────┼────────────────────────┼───────────────┤\n",
       "│ dropout_3 (<span style=\"color: #0087ff; text-decoration-color: #0087ff\">Dropout</span>)             │ (<span style=\"color: #00d7ff; text-decoration-color: #00d7ff\">None</span>, <span style=\"color: #00af00; text-decoration-color: #00af00\">64</span>)             │             <span style=\"color: #00af00; text-decoration-color: #00af00\">0</span> │\n",
       "├─────────────────────────────────┼────────────────────────┼───────────────┤\n",
       "│ dense_1 (<span style=\"color: #0087ff; text-decoration-color: #0087ff\">Dense</span>)                 │ (<span style=\"color: #00d7ff; text-decoration-color: #00d7ff\">None</span>, <span style=\"color: #00af00; text-decoration-color: #00af00\">5</span>)              │           <span style=\"color: #00af00; text-decoration-color: #00af00\">325</span> │\n",
       "└─────────────────────────────────┴────────────────────────┴───────────────┘\n",
       "</pre>\n"
      ],
      "text/plain": [
       "┏━━━━━━━━━━━━━━━━━━━━━━━━━━━━━━━━━┳━━━━━━━━━━━━━━━━━━━━━━━━┳━━━━━━━━━━━━━━━┓\n",
       "┃\u001b[1m \u001b[0m\u001b[1mLayer (type)                   \u001b[0m\u001b[1m \u001b[0m┃\u001b[1m \u001b[0m\u001b[1mOutput Shape          \u001b[0m\u001b[1m \u001b[0m┃\u001b[1m \u001b[0m\u001b[1m      Param #\u001b[0m\u001b[1m \u001b[0m┃\n",
       "┡━━━━━━━━━━━━━━━━━━━━━━━━━━━━━━━━━╇━━━━━━━━━━━━━━━━━━━━━━━━╇━━━━━━━━━━━━━━━┩\n",
       "│ embedding (\u001b[38;5;33mEmbedding\u001b[0m)           │ (\u001b[38;5;45mNone\u001b[0m, \u001b[38;5;34m4950\u001b[0m, \u001b[38;5;34m100\u001b[0m)      │     \u001b[38;5;34m1,000,100\u001b[0m │\n",
       "├─────────────────────────────────┼────────────────────────┼───────────────┤\n",
       "│ simple_rnn (\u001b[38;5;33mSimpleRNN\u001b[0m)          │ (\u001b[38;5;45mNone\u001b[0m, \u001b[38;5;34m4950\u001b[0m, \u001b[38;5;34m100\u001b[0m)      │        \u001b[38;5;34m20,100\u001b[0m │\n",
       "├─────────────────────────────────┼────────────────────────┼───────────────┤\n",
       "│ dropout (\u001b[38;5;33mDropout\u001b[0m)               │ (\u001b[38;5;45mNone\u001b[0m, \u001b[38;5;34m4950\u001b[0m, \u001b[38;5;34m100\u001b[0m)      │             \u001b[38;5;34m0\u001b[0m │\n",
       "├─────────────────────────────────┼────────────────────────┼───────────────┤\n",
       "│ simple_rnn_1 (\u001b[38;5;33mSimpleRNN\u001b[0m)        │ (\u001b[38;5;45mNone\u001b[0m, \u001b[38;5;34m4950\u001b[0m, \u001b[38;5;34m100\u001b[0m)      │        \u001b[38;5;34m20,100\u001b[0m │\n",
       "├─────────────────────────────────┼────────────────────────┼───────────────┤\n",
       "│ dropout_1 (\u001b[38;5;33mDropout\u001b[0m)             │ (\u001b[38;5;45mNone\u001b[0m, \u001b[38;5;34m4950\u001b[0m, \u001b[38;5;34m100\u001b[0m)      │             \u001b[38;5;34m0\u001b[0m │\n",
       "├─────────────────────────────────┼────────────────────────┼───────────────┤\n",
       "│ simple_rnn_2 (\u001b[38;5;33mSimpleRNN\u001b[0m)        │ (\u001b[38;5;45mNone\u001b[0m, \u001b[38;5;34m100\u001b[0m)            │        \u001b[38;5;34m20,100\u001b[0m │\n",
       "├─────────────────────────────────┼────────────────────────┼───────────────┤\n",
       "│ dropout_2 (\u001b[38;5;33mDropout\u001b[0m)             │ (\u001b[38;5;45mNone\u001b[0m, \u001b[38;5;34m100\u001b[0m)            │             \u001b[38;5;34m0\u001b[0m │\n",
       "├─────────────────────────────────┼────────────────────────┼───────────────┤\n",
       "│ dense (\u001b[38;5;33mDense\u001b[0m)                   │ (\u001b[38;5;45mNone\u001b[0m, \u001b[38;5;34m64\u001b[0m)             │         \u001b[38;5;34m6,464\u001b[0m │\n",
       "├─────────────────────────────────┼────────────────────────┼───────────────┤\n",
       "│ batch_normalization             │ (\u001b[38;5;45mNone\u001b[0m, \u001b[38;5;34m64\u001b[0m)             │           \u001b[38;5;34m256\u001b[0m │\n",
       "│ (\u001b[38;5;33mBatchNormalization\u001b[0m)            │                        │               │\n",
       "├─────────────────────────────────┼────────────────────────┼───────────────┤\n",
       "│ dropout_3 (\u001b[38;5;33mDropout\u001b[0m)             │ (\u001b[38;5;45mNone\u001b[0m, \u001b[38;5;34m64\u001b[0m)             │             \u001b[38;5;34m0\u001b[0m │\n",
       "├─────────────────────────────────┼────────────────────────┼───────────────┤\n",
       "│ dense_1 (\u001b[38;5;33mDense\u001b[0m)                 │ (\u001b[38;5;45mNone\u001b[0m, \u001b[38;5;34m5\u001b[0m)              │           \u001b[38;5;34m325\u001b[0m │\n",
       "└─────────────────────────────────┴────────────────────────┴───────────────┘\n"
      ]
     },
     "metadata": {},
     "output_type": "display_data"
    },
    {
     "data": {
      "text/html": [
       "<pre style=\"white-space:pre;overflow-x:auto;line-height:normal;font-family:Menlo,'DejaVu Sans Mono',consolas,'Courier New',monospace\"><span style=\"font-weight: bold\"> Total params: </span><span style=\"color: #00af00; text-decoration-color: #00af00\">1,067,445</span> (4.07 MB)\n",
       "</pre>\n"
      ],
      "text/plain": [
       "\u001b[1m Total params: \u001b[0m\u001b[38;5;34m1,067,445\u001b[0m (4.07 MB)\n"
      ]
     },
     "metadata": {},
     "output_type": "display_data"
    },
    {
     "data": {
      "text/html": [
       "<pre style=\"white-space:pre;overflow-x:auto;line-height:normal;font-family:Menlo,'DejaVu Sans Mono',consolas,'Courier New',monospace\"><span style=\"font-weight: bold\"> Trainable params: </span><span style=\"color: #00af00; text-decoration-color: #00af00\">1,067,317</span> (4.07 MB)\n",
       "</pre>\n"
      ],
      "text/plain": [
       "\u001b[1m Trainable params: \u001b[0m\u001b[38;5;34m1,067,317\u001b[0m (4.07 MB)\n"
      ]
     },
     "metadata": {},
     "output_type": "display_data"
    },
    {
     "data": {
      "text/html": [
       "<pre style=\"white-space:pre;overflow-x:auto;line-height:normal;font-family:Menlo,'DejaVu Sans Mono',consolas,'Courier New',monospace\"><span style=\"font-weight: bold\"> Non-trainable params: </span><span style=\"color: #00af00; text-decoration-color: #00af00\">128</span> (512.00 B)\n",
       "</pre>\n"
      ],
      "text/plain": [
       "\u001b[1m Non-trainable params: \u001b[0m\u001b[38;5;34m128\u001b[0m (512.00 B)\n"
      ]
     },
     "metadata": {},
     "output_type": "display_data"
    }
   ],
   "source": [
    "from keras.models import Sequential\n",
    "from keras.layers import Dense, Dropout,BatchNormalization\n",
    "from keras.layers import Embedding\n",
    "from keras.layers import SimpleRNN\n",
    "\n",
    "\n",
    "# Model: Enhanced RNN with multiple layers\n",
    "model = Sequential()\n",
    "model.add(Embedding(vocab_sz + 1, embedding_size, mask_zero=True, input_length=maxlen))\n",
    "\n",
    "# Add the first RNN layer\n",
    "model.add(SimpleRNN(100, return_sequences=True,recurrent_dropout=0.2,dropout=0.2))  # Return sequences to pass to the next RNN layer\n",
    "model.add(Dropout(0.3))  # Dropout to prevent overfitting\n",
    "\n",
    "# Add a second RNN layer\n",
    "model.add(SimpleRNN(100, return_sequences=True,recurrent_dropout=0.2,dropout=0.2))\n",
    "model.add(Dropout(0.3))\n",
    "\n",
    "# Add a third RNN layer\n",
    "model.add(SimpleRNN(100,recurrent_dropout=0.2,dropout=0.2))\n",
    "model.add(Dropout(0.3))\n",
    "\n",
    "# Add a fully connected layer\n",
    "model.add(Dense(64, activation='relu'))  # Intermediate dense layer for more learning capacity\n",
    "model.add(BatchNormalization())\n",
    "model.add(Dropout(0.3))  # Dropout for dense layer\n",
    "\n",
    "# Output layer\n",
    "model.add(Dense(5, activation='softmax'))  # For classification\n",
    "\n",
    "model.build(input_shape=(None, maxlen)) # None for batch size, maxlen for sequence length\n",
    "# Model summary\n",
    "model.summary()\n"
   ]
  },
  {
   "cell_type": "code",
   "execution_count": 23,
   "id": "e037a580",
   "metadata": {
    "execution": {
     "iopub.execute_input": "2024-12-11T11:10:46.362071Z",
     "iopub.status.busy": "2024-12-11T11:10:46.361697Z",
     "iopub.status.idle": "2024-12-11T11:10:46.375880Z",
     "shell.execute_reply": "2024-12-11T11:10:46.374689Z"
    },
    "papermill": {
     "duration": 0.027436,
     "end_time": "2024-12-11T11:10:46.378310",
     "exception": false,
     "start_time": "2024-12-11T11:10:46.350874",
     "status": "completed"
    },
    "tags": []
   },
   "outputs": [],
   "source": [
    "model.compile(\n",
    "    loss='sparse_categorical_crossentropy', \n",
    "    optimizer='adam',\n",
    "    metrics=['accuracy']\n",
    ")"
   ]
  },
  {
   "cell_type": "code",
   "execution_count": 24,
   "id": "c2ea1346",
   "metadata": {
    "execution": {
     "iopub.execute_input": "2024-12-11T11:10:46.399540Z",
     "iopub.status.busy": "2024-12-11T11:10:46.399198Z",
     "iopub.status.idle": "2024-12-11T11:10:46.404197Z",
     "shell.execute_reply": "2024-12-11T11:10:46.403132Z"
    },
    "papermill": {
     "duration": 0.018106,
     "end_time": "2024-12-11T11:10:46.406325",
     "exception": false,
     "start_time": "2024-12-11T11:10:46.388219",
     "status": "completed"
    },
    "tags": []
   },
   "outputs": [],
   "source": [
    "checkpoint = EarlyStopping(monitor='val_loss',patience = 10 ,mode='max',restore_best_weights=True)\n",
    "callbacks_lst = [checkpoint]"
   ]
  },
  {
   "cell_type": "code",
   "execution_count": 25,
   "id": "41835450",
   "metadata": {
    "execution": {
     "iopub.execute_input": "2024-12-11T11:10:46.427432Z",
     "iopub.status.busy": "2024-12-11T11:10:46.427069Z",
     "iopub.status.idle": "2024-12-11T13:09:04.825711Z",
     "shell.execute_reply": "2024-12-11T13:09:04.824148Z"
    },
    "papermill": {
     "duration": 7098.423935,
     "end_time": "2024-12-11T13:09:04.840083",
     "exception": false,
     "start_time": "2024-12-11T11:10:46.416148",
     "status": "completed"
    },
    "tags": []
   },
   "outputs": [
    {
     "name": "stdout",
     "output_type": "stream",
     "text": [
      "Epoch 1/80\n",
      "\u001b[1m23/23\u001b[0m \u001b[32m━━━━━━━━━━━━━━━━━━━━\u001b[0m\u001b[37m\u001b[0m \u001b[1m379s\u001b[0m 16s/step - accuracy: 0.1934 - loss: 2.4700 - val_accuracy: 0.1601 - val_loss: 1.6757\n",
      "Epoch 2/80\n",
      "\u001b[1m23/23\u001b[0m \u001b[32m━━━━━━━━━━━━━━━━━━━━\u001b[0m\u001b[37m\u001b[0m \u001b[1m379s\u001b[0m 16s/step - accuracy: 0.1943 - loss: 2.2233 - val_accuracy: 0.1938 - val_loss: 1.6557\n",
      "Epoch 3/80\n",
      "\u001b[1m23/23\u001b[0m \u001b[32m━━━━━━━━━━━━━━━━━━━━\u001b[0m\u001b[37m\u001b[0m \u001b[1m372s\u001b[0m 16s/step - accuracy: 0.2141 - loss: 2.0678 - val_accuracy: 0.1938 - val_loss: 1.6605\n",
      "Epoch 4/80\n",
      "\u001b[1m23/23\u001b[0m \u001b[32m━━━━━━━━━━━━━━━━━━━━\u001b[0m\u001b[37m\u001b[0m \u001b[1m373s\u001b[0m 16s/step - accuracy: 0.2036 - loss: 2.0044 - val_accuracy: 0.1657 - val_loss: 1.6730\n",
      "Epoch 5/80\n",
      "\u001b[1m23/23\u001b[0m \u001b[32m━━━━━━━━━━━━━━━━━━━━\u001b[0m\u001b[37m\u001b[0m \u001b[1m373s\u001b[0m 16s/step - accuracy: 0.2114 - loss: 1.9568 - val_accuracy: 0.1994 - val_loss: 1.6547\n",
      "Epoch 6/80\n",
      "\u001b[1m23/23\u001b[0m \u001b[32m━━━━━━━━━━━━━━━━━━━━\u001b[0m\u001b[37m\u001b[0m \u001b[1m372s\u001b[0m 16s/step - accuracy: 0.2079 - loss: 1.9249 - val_accuracy: 0.2191 - val_loss: 1.6205\n",
      "Epoch 7/80\n",
      "\u001b[1m23/23\u001b[0m \u001b[32m━━━━━━━━━━━━━━━━━━━━\u001b[0m\u001b[37m\u001b[0m \u001b[1m370s\u001b[0m 16s/step - accuracy: 0.1872 - loss: 1.9089 - val_accuracy: 0.2416 - val_loss: 1.6438\n",
      "Epoch 8/80\n",
      "\u001b[1m23/23\u001b[0m \u001b[32m━━━━━━━━━━━━━━━━━━━━\u001b[0m\u001b[37m\u001b[0m \u001b[1m374s\u001b[0m 16s/step - accuracy: 0.1843 - loss: 1.8710 - val_accuracy: 0.1966 - val_loss: 1.6397\n",
      "Epoch 9/80\n",
      "\u001b[1m23/23\u001b[0m \u001b[32m━━━━━━━━━━━━━━━━━━━━\u001b[0m\u001b[37m\u001b[0m \u001b[1m373s\u001b[0m 16s/step - accuracy: 0.1871 - loss: 1.8618 - val_accuracy: 0.1938 - val_loss: 1.6852\n",
      "Epoch 10/80\n",
      "\u001b[1m23/23\u001b[0m \u001b[32m━━━━━━━━━━━━━━━━━━━━\u001b[0m\u001b[37m\u001b[0m \u001b[1m373s\u001b[0m 16s/step - accuracy: 0.2201 - loss: 1.7598 - val_accuracy: 0.1910 - val_loss: 1.6680\n",
      "Epoch 11/80\n",
      "\u001b[1m23/23\u001b[0m \u001b[32m━━━━━━━━━━━━━━━━━━━━\u001b[0m\u001b[37m\u001b[0m \u001b[1m383s\u001b[0m 17s/step - accuracy: 0.2160 - loss: 1.7572 - val_accuracy: 0.1938 - val_loss: 1.6657\n",
      "Epoch 12/80\n",
      "\u001b[1m23/23\u001b[0m \u001b[32m━━━━━━━━━━━━━━━━━━━━\u001b[0m\u001b[37m\u001b[0m \u001b[1m373s\u001b[0m 16s/step - accuracy: 0.2374 - loss: 1.7761 - val_accuracy: 0.2303 - val_loss: 1.6378\n",
      "Epoch 13/80\n",
      "\u001b[1m23/23\u001b[0m \u001b[32m━━━━━━━━━━━━━━━━━━━━\u001b[0m\u001b[37m\u001b[0m \u001b[1m375s\u001b[0m 16s/step - accuracy: 0.2038 - loss: 1.7532 - val_accuracy: 0.2079 - val_loss: 1.6605\n",
      "Epoch 14/80\n",
      "\u001b[1m23/23\u001b[0m \u001b[32m━━━━━━━━━━━━━━━━━━━━\u001b[0m\u001b[37m\u001b[0m \u001b[1m373s\u001b[0m 16s/step - accuracy: 0.1915 - loss: 1.7706 - val_accuracy: 0.2135 - val_loss: 1.6284\n",
      "Epoch 15/80\n",
      "\u001b[1m23/23\u001b[0m \u001b[32m━━━━━━━━━━━━━━━━━━━━\u001b[0m\u001b[37m\u001b[0m \u001b[1m372s\u001b[0m 16s/step - accuracy: 0.2260 - loss: 1.7166 - val_accuracy: 0.1994 - val_loss: 1.6371\n",
      "Epoch 16/80\n",
      "\u001b[1m23/23\u001b[0m \u001b[32m━━━━━━━━━━━━━━━━━━━━\u001b[0m\u001b[37m\u001b[0m \u001b[1m373s\u001b[0m 16s/step - accuracy: 0.2022 - loss: 1.7377 - val_accuracy: 0.1966 - val_loss: 1.6251\n",
      "Epoch 17/80\n",
      "\u001b[1m23/23\u001b[0m \u001b[32m━━━━━━━━━━━━━━━━━━━━\u001b[0m\u001b[37m\u001b[0m \u001b[1m372s\u001b[0m 16s/step - accuracy: 0.2031 - loss: 1.6899 - val_accuracy: 0.1348 - val_loss: 1.6420\n",
      "Epoch 18/80\n",
      "\u001b[1m23/23\u001b[0m \u001b[32m━━━━━━━━━━━━━━━━━━━━\u001b[0m\u001b[37m\u001b[0m \u001b[1m371s\u001b[0m 16s/step - accuracy: 0.1895 - loss: 1.7214 - val_accuracy: 0.1994 - val_loss: 1.6205\n",
      "Epoch 19/80\n",
      "\u001b[1m23/23\u001b[0m \u001b[32m━━━━━━━━━━━━━━━━━━━━\u001b[0m\u001b[37m\u001b[0m \u001b[1m369s\u001b[0m 16s/step - accuracy: 0.2172 - loss: 1.6799 - val_accuracy: 0.2051 - val_loss: 1.6277\n"
     ]
    }
   ],
   "source": [
    "history = model.fit(x_train, y_train,\n",
    "          batch_size=64,\n",
    "          epochs=80,\n",
    "          validation_split=0.2,\n",
    "          callbacks=callbacks_lst)"
   ]
  },
  {
   "cell_type": "code",
   "execution_count": 26,
   "id": "e853801e",
   "metadata": {
    "execution": {
     "iopub.execute_input": "2024-12-11T13:09:04.913825Z",
     "iopub.status.busy": "2024-12-11T13:09:04.913337Z",
     "iopub.status.idle": "2024-12-11T13:09:25.491993Z",
     "shell.execute_reply": "2024-12-11T13:09:25.490669Z"
    },
    "papermill": {
     "duration": 20.618047,
     "end_time": "2024-12-11T13:09:25.494312",
     "exception": false,
     "start_time": "2024-12-11T13:09:04.876265",
     "status": "completed"
    },
    "tags": []
   },
   "outputs": [
    {
     "name": "stdout",
     "output_type": "stream",
     "text": [
      "\u001b[1m14/14\u001b[0m \u001b[32m━━━━━━━━━━━━━━━━━━━━\u001b[0m\u001b[37m\u001b[0m \u001b[1m19s\u001b[0m 1s/step - accuracy: 0.1941 - loss: 1.6826\n",
      "Test Loss: 1.6863594055175781\n",
      "Test Accuracy: 0.19550561904907227\n"
     ]
    }
   ],
   "source": [
    "loss, accuracy = model.evaluate(x_test, y_test)\n",
    "\n",
    "print(f\"Test Loss: {loss}\")\n",
    "print(f\"Test Accuracy: {accuracy}\")\n"
   ]
  },
  {
   "cell_type": "code",
   "execution_count": 27,
   "id": "4d3fc574",
   "metadata": {
    "execution": {
     "iopub.execute_input": "2024-12-11T13:09:25.598999Z",
     "iopub.status.busy": "2024-12-11T13:09:25.598553Z",
     "iopub.status.idle": "2024-12-11T13:10:42.270479Z",
     "shell.execute_reply": "2024-12-11T13:10:42.269369Z"
    },
    "papermill": {
     "duration": 76.733174,
     "end_time": "2024-12-11T13:10:42.272845",
     "exception": false,
     "start_time": "2024-12-11T13:09:25.539671",
     "status": "completed"
    },
    "tags": []
   },
   "outputs": [
    {
     "name": "stdout",
     "output_type": "stream",
     "text": [
      "\u001b[1m56/56\u001b[0m \u001b[32m━━━━━━━━━━━━━━━━━━━━\u001b[0m\u001b[37m\u001b[0m \u001b[1m76s\u001b[0m 1s/step - accuracy: 0.2093 - loss: 1.6708\n"
     ]
    },
    {
     "data": {
      "text/plain": [
       "[1.6681922674179077, 0.2140449434518814]"
      ]
     },
     "execution_count": 27,
     "metadata": {},
     "output_type": "execute_result"
    }
   ],
   "source": [
    "model.evaluate(x_train,y_train)"
   ]
  },
  {
   "cell_type": "code",
   "execution_count": 28,
   "id": "fc2be74f",
   "metadata": {
    "execution": {
     "iopub.execute_input": "2024-12-11T13:10:42.354442Z",
     "iopub.status.busy": "2024-12-11T13:10:42.353434Z",
     "iopub.status.idle": "2024-12-11T13:10:42.667910Z",
     "shell.execute_reply": "2024-12-11T13:10:42.666834Z"
    },
    "papermill": {
     "duration": 0.357657,
     "end_time": "2024-12-11T13:10:42.670034",
     "exception": false,
     "start_time": "2024-12-11T13:10:42.312377",
     "status": "completed"
    },
    "tags": []
   },
   "outputs": [
    {
     "data": {
      "image/png": "[encoded data removed]",
      "text/plain": [
       "<Figure size 640x480 with 1 Axes>"
      ]
     },
     "metadata": {},
     "output_type": "display_data"
    }
   ],
   "source": [
    "\n",
    "acc = history.history['accuracy']\n",
    "val_acc = history.history['val_accuracy']\n",
    "loss = history.history['loss']\n",
    "val_loss = history.history['val_loss']\n",
    "\n",
    "epochs = range(1, len(acc) + 1)\n",
    "\n",
    "# \"bo\" is for \"blue dot\"\n",
    "plt.plot(epochs, loss, label='Training loss')\n",
    "# b is for \"solid blue line\"\n",
    "plt.plot(epochs, val_loss, label='Validation loss')\n",
    "plt.title('Training and validation loss')\n",
    "plt.xlabel('Epochs')\n",
    "plt.ylabel('Loss')\n",
    "plt.legend()\n",
    "\n",
    "plt.show()"
   ]
  },
  {
   "cell_type": "code",
   "execution_count": 29,
   "id": "056a105e",
   "metadata": {
    "execution": {
     "iopub.execute_input": "2024-12-11T13:10:42.752196Z",
     "iopub.status.busy": "2024-12-11T13:10:42.751800Z",
     "iopub.status.idle": "2024-12-11T13:10:42.971865Z",
     "shell.execute_reply": "2024-12-11T13:10:42.970676Z"
    },
    "papermill": {
     "duration": 0.264208,
     "end_time": "2024-12-11T13:10:42.974331",
     "exception": false,
     "start_time": "2024-12-11T13:10:42.710123",
     "status": "completed"
    },
    "tags": []
   },
   "outputs": [
    {
     "data": {
      "image/png": "[encoded data removed]",
      "text/plain": [
       "<Figure size 640x480 with 1 Axes>"
      ]
     },
     "metadata": {},
     "output_type": "display_data"
    }
   ],
   "source": [
    "\n",
    "plt.clf()   # clear figure\n",
    "acc_values = history.history['accuracy']\n",
    "val_acc_values = history.history['val_accuracy']\n",
    "\n",
    "plt.plot(epochs, acc, label='Training acc')\n",
    "plt.plot(epochs, val_acc, label='Validation acc')\n",
    "plt.title('Training and validation accuracy')\n",
    "plt.xlabel('Epochs')\n",
    "plt.ylabel('Loss')\n",
    "plt.legend()\n",
    "\n",
    "plt.show()"
   ]
  },
  {
   "cell_type": "markdown",
   "id": "fbfd598a",
   "metadata": {
    "papermill": {
     "duration": 0.041723,
     "end_time": "2024-12-11T13:10:43.057219",
     "exception": false,
     "start_time": "2024-12-11T13:10:43.015496",
     "status": "completed"
    },
    "tags": []
   },
   "source": [
    "# LSTM"
   ]
  },
  {
   "cell_type": "code",
   "execution_count": 30,
   "id": "48c35400",
   "metadata": {
    "execution": {
     "iopub.execute_input": "2024-12-11T13:10:43.141510Z",
     "iopub.status.busy": "2024-12-11T13:10:43.140772Z",
     "iopub.status.idle": "2024-12-11T13:10:43.290407Z",
     "shell.execute_reply": "2024-12-11T13:10:43.289356Z"
    },
    "papermill": {
     "duration": 0.194087,
     "end_time": "2024-12-11T13:10:43.292628",
     "exception": false,
     "start_time": "2024-12-11T13:10:43.098541",
     "status": "completed"
    },
    "tags": []
   },
   "outputs": [
    {
     "data": {
      "text/html": [
       "<pre style=\"white-space:pre;overflow-x:auto;line-height:normal;font-family:Menlo,'DejaVu Sans Mono',consolas,'Courier New',monospace\"><span style=\"font-weight: bold\">Model: \"sequential_1\"</span>\n",
       "</pre>\n"
      ],
      "text/plain": [
       "\u001b[1mModel: \"sequential_1\"\u001b[0m\n"
      ]
     },
     "metadata": {},
     "output_type": "display_data"
    },
    {
     "data": {
      "text/html": [
       "<pre style=\"white-space:pre;overflow-x:auto;line-height:normal;font-family:Menlo,'DejaVu Sans Mono',consolas,'Courier New',monospace\">┏━━━━━━━━━━━━━━━━━━━━━━━━━━━━━━━━━┳━━━━━━━━━━━━━━━━━━━━━━━━┳━━━━━━━━━━━━━━━┓\n",
       "┃<span style=\"font-weight: bold\"> Layer (type)                    </span>┃<span style=\"font-weight: bold\"> Output Shape           </span>┃<span style=\"font-weight: bold\">       Param # </span>┃\n",
       "┡━━━━━━━━━━━━━━━━━━━━━━━━━━━━━━━━━╇━━━━━━━━━━━━━━━━━━━━━━━━╇━━━━━━━━━━━━━━━┩\n",
       "│ embedding_1 (<span style=\"color: #0087ff; text-decoration-color: #0087ff\">Embedding</span>)         │ (<span style=\"color: #00d7ff; text-decoration-color: #00d7ff\">None</span>, <span style=\"color: #00af00; text-decoration-color: #00af00\">4950</span>, <span style=\"color: #00af00; text-decoration-color: #00af00\">100</span>)      │     <span style=\"color: #00af00; text-decoration-color: #00af00\">1,000,100</span> │\n",
       "├─────────────────────────────────┼────────────────────────┼───────────────┤\n",
       "│ lstm (<span style=\"color: #0087ff; text-decoration-color: #0087ff\">LSTM</span>)                     │ (<span style=\"color: #00d7ff; text-decoration-color: #00d7ff\">None</span>, <span style=\"color: #00af00; text-decoration-color: #00af00\">4950</span>, <span style=\"color: #00af00; text-decoration-color: #00af00\">100</span>)      │        <span style=\"color: #00af00; text-decoration-color: #00af00\">80,400</span> │\n",
       "├─────────────────────────────────┼────────────────────────┼───────────────┤\n",
       "│ dropout_4 (<span style=\"color: #0087ff; text-decoration-color: #0087ff\">Dropout</span>)             │ (<span style=\"color: #00d7ff; text-decoration-color: #00d7ff\">None</span>, <span style=\"color: #00af00; text-decoration-color: #00af00\">4950</span>, <span style=\"color: #00af00; text-decoration-color: #00af00\">100</span>)      │             <span style=\"color: #00af00; text-decoration-color: #00af00\">0</span> │\n",
       "├─────────────────────────────────┼────────────────────────┼───────────────┤\n",
       "│ lstm_1 (<span style=\"color: #0087ff; text-decoration-color: #0087ff\">LSTM</span>)                   │ (<span style=\"color: #00d7ff; text-decoration-color: #00d7ff\">None</span>, <span style=\"color: #00af00; text-decoration-color: #00af00\">4950</span>, <span style=\"color: #00af00; text-decoration-color: #00af00\">100</span>)      │        <span style=\"color: #00af00; text-decoration-color: #00af00\">80,400</span> │\n",
       "├─────────────────────────────────┼────────────────────────┼───────────────┤\n",
       "│ dropout_5 (<span style=\"color: #0087ff; text-decoration-color: #0087ff\">Dropout</span>)             │ (<span style=\"color: #00d7ff; text-decoration-color: #00d7ff\">None</span>, <span style=\"color: #00af00; text-decoration-color: #00af00\">4950</span>, <span style=\"color: #00af00; text-decoration-color: #00af00\">100</span>)      │             <span style=\"color: #00af00; text-decoration-color: #00af00\">0</span> │\n",
       "├─────────────────────────────────┼────────────────────────┼───────────────┤\n",
       "│ lstm_2 (<span style=\"color: #0087ff; text-decoration-color: #0087ff\">LSTM</span>)                   │ (<span style=\"color: #00d7ff; text-decoration-color: #00d7ff\">None</span>, <span style=\"color: #00af00; text-decoration-color: #00af00\">100</span>)            │        <span style=\"color: #00af00; text-decoration-color: #00af00\">80,400</span> │\n",
       "├─────────────────────────────────┼────────────────────────┼───────────────┤\n",
       "│ dropout_6 (<span style=\"color: #0087ff; text-decoration-color: #0087ff\">Dropout</span>)             │ (<span style=\"color: #00d7ff; text-decoration-color: #00d7ff\">None</span>, <span style=\"color: #00af00; text-decoration-color: #00af00\">100</span>)            │             <span style=\"color: #00af00; text-decoration-color: #00af00\">0</span> │\n",
       "├─────────────────────────────────┼────────────────────────┼───────────────┤\n",
       "│ dense_2 (<span style=\"color: #0087ff; text-decoration-color: #0087ff\">Dense</span>)                 │ (<span style=\"color: #00d7ff; text-decoration-color: #00d7ff\">None</span>, <span style=\"color: #00af00; text-decoration-color: #00af00\">64</span>)             │         <span style=\"color: #00af00; text-decoration-color: #00af00\">6,464</span> │\n",
       "├─────────────────────────────────┼────────────────────────┼───────────────┤\n",
       "│ batch_normalization_1           │ (<span style=\"color: #00d7ff; text-decoration-color: #00d7ff\">None</span>, <span style=\"color: #00af00; text-decoration-color: #00af00\">64</span>)             │           <span style=\"color: #00af00; text-decoration-color: #00af00\">256</span> │\n",
       "│ (<span style=\"color: #0087ff; text-decoration-color: #0087ff\">BatchNormalization</span>)            │                        │               │\n",
       "├─────────────────────────────────┼────────────────────────┼───────────────┤\n",
       "│ dropout_7 (<span style=\"color: #0087ff; text-decoration-color: #0087ff\">Dropout</span>)             │ (<span style=\"color: #00d7ff; text-decoration-color: #00d7ff\">None</span>, <span style=\"color: #00af00; text-decoration-color: #00af00\">64</span>)             │             <span style=\"color: #00af00; text-decoration-color: #00af00\">0</span> │\n",
       "├─────────────────────────────────┼────────────────────────┼───────────────┤\n",
       "│ dense_3 (<span style=\"color: #0087ff; text-decoration-color: #0087ff\">Dense</span>)                 │ (<span style=\"color: #00d7ff; text-decoration-color: #00d7ff\">None</span>, <span style=\"color: #00af00; text-decoration-color: #00af00\">5</span>)              │           <span style=\"color: #00af00; text-decoration-color: #00af00\">325</span> │\n",
       "└─────────────────────────────────┴────────────────────────┴───────────────┘\n",
       "</pre>\n"
      ],
      "text/plain": [
       "┏━━━━━━━━━━━━━━━━━━━━━━━━━━━━━━━━━┳━━━━━━━━━━━━━━━━━━━━━━━━┳━━━━━━━━━━━━━━━┓\n",
       "┃\u001b[1m \u001b[0m\u001b[1mLayer (type)                   \u001b[0m\u001b[1m \u001b[0m┃\u001b[1m \u001b[0m\u001b[1mOutput Shape          \u001b[0m\u001b[1m \u001b[0m┃\u001b[1m \u001b[0m\u001b[1m      Param #\u001b[0m\u001b[1m \u001b[0m┃\n",
       "┡━━━━━━━━━━━━━━━━━━━━━━━━━━━━━━━━━╇━━━━━━━━━━━━━━━━━━━━━━━━╇━━━━━━━━━━━━━━━┩\n",
       "│ embedding_1 (\u001b[38;5;33mEmbedding\u001b[0m)         │ (\u001b[38;5;45mNone\u001b[0m, \u001b[38;5;34m4950\u001b[0m, \u001b[38;5;34m100\u001b[0m)      │     \u001b[38;5;34m1,000,100\u001b[0m │\n",
       "├─────────────────────────────────┼────────────────────────┼───────────────┤\n",
       "│ lstm (\u001b[38;5;33mLSTM\u001b[0m)                     │ (\u001b[38;5;45mNone\u001b[0m, \u001b[38;5;34m4950\u001b[0m, \u001b[38;5;34m100\u001b[0m)      │        \u001b[38;5;34m80,400\u001b[0m │\n",
       "├─────────────────────────────────┼────────────────────────┼───────────────┤\n",
       "│ dropout_4 (\u001b[38;5;33mDropout\u001b[0m)             │ (\u001b[38;5;45mNone\u001b[0m, \u001b[38;5;34m4950\u001b[0m, \u001b[38;5;34m100\u001b[0m)      │             \u001b[38;5;34m0\u001b[0m │\n",
       "├─────────────────────────────────┼────────────────────────┼───────────────┤\n",
       "│ lstm_1 (\u001b[38;5;33mLSTM\u001b[0m)                   │ (\u001b[38;5;45mNone\u001b[0m, \u001b[38;5;34m4950\u001b[0m, \u001b[38;5;34m100\u001b[0m)      │        \u001b[38;5;34m80,400\u001b[0m │\n",
       "├─────────────────────────────────┼────────────────────────┼───────────────┤\n",
       "│ dropout_5 (\u001b[38;5;33mDropout\u001b[0m)             │ (\u001b[38;5;45mNone\u001b[0m, \u001b[38;5;34m4950\u001b[0m, \u001b[38;5;34m100\u001b[0m)      │             \u001b[38;5;34m0\u001b[0m │\n",
       "├─────────────────────────────────┼────────────────────────┼───────────────┤\n",
       "│ lstm_2 (\u001b[38;5;33mLSTM\u001b[0m)                   │ (\u001b[38;5;45mNone\u001b[0m, \u001b[38;5;34m100\u001b[0m)            │        \u001b[38;5;34m80,400\u001b[0m │\n",
       "├─────────────────────────────────┼────────────────────────┼───────────────┤\n",
       "│ dropout_6 (\u001b[38;5;33mDropout\u001b[0m)             │ (\u001b[38;5;45mNone\u001b[0m, \u001b[38;5;34m100\u001b[0m)            │             \u001b[38;5;34m0\u001b[0m │\n",
       "├─────────────────────────────────┼────────────────────────┼───────────────┤\n",
       "│ dense_2 (\u001b[38;5;33mDense\u001b[0m)                 │ (\u001b[38;5;45mNone\u001b[0m, \u001b[38;5;34m64\u001b[0m)             │         \u001b[38;5;34m6,464\u001b[0m │\n",
       "├─────────────────────────────────┼────────────────────────┼───────────────┤\n",
       "│ batch_normalization_1           │ (\u001b[38;5;45mNone\u001b[0m, \u001b[38;5;34m64\u001b[0m)             │           \u001b[38;5;34m256\u001b[0m │\n",
       "│ (\u001b[38;5;33mBatchNormalization\u001b[0m)            │                        │               │\n",
       "├─────────────────────────────────┼────────────────────────┼───────────────┤\n",
       "│ dropout_7 (\u001b[38;5;33mDropout\u001b[0m)             │ (\u001b[38;5;45mNone\u001b[0m, \u001b[38;5;34m64\u001b[0m)             │             \u001b[38;5;34m0\u001b[0m │\n",
       "├─────────────────────────────────┼────────────────────────┼───────────────┤\n",
       "│ dense_3 (\u001b[38;5;33mDense\u001b[0m)                 │ (\u001b[38;5;45mNone\u001b[0m, \u001b[38;5;34m5\u001b[0m)              │           \u001b[38;5;34m325\u001b[0m │\n",
       "└─────────────────────────────────┴────────────────────────┴───────────────┘\n"
      ]
     },
     "metadata": {},
     "output_type": "display_data"
    },
    {
     "data": {
      "text/html": [
       "<pre style=\"white-space:pre;overflow-x:auto;line-height:normal;font-family:Menlo,'DejaVu Sans Mono',consolas,'Courier New',monospace\"><span style=\"font-weight: bold\"> Total params: </span><span style=\"color: #00af00; text-decoration-color: #00af00\">1,248,345</span> (4.76 MB)\n",
       "</pre>\n"
      ],
      "text/plain": [
       "\u001b[1m Total params: \u001b[0m\u001b[38;5;34m1,248,345\u001b[0m (4.76 MB)\n"
      ]
     },
     "metadata": {},
     "output_type": "display_data"
    },
    {
     "data": {
      "text/html": [
       "<pre style=\"white-space:pre;overflow-x:auto;line-height:normal;font-family:Menlo,'DejaVu Sans Mono',consolas,'Courier New',monospace\"><span style=\"font-weight: bold\"> Trainable params: </span><span style=\"color: #00af00; text-decoration-color: #00af00\">1,248,217</span> (4.76 MB)\n",
       "</pre>\n"
      ],
      "text/plain": [
       "\u001b[1m Trainable params: \u001b[0m\u001b[38;5;34m1,248,217\u001b[0m (4.76 MB)\n"
      ]
     },
     "metadata": {},
     "output_type": "display_data"
    },
    {
     "data": {
      "text/html": [
       "<pre style=\"white-space:pre;overflow-x:auto;line-height:normal;font-family:Menlo,'DejaVu Sans Mono',consolas,'Courier New',monospace\"><span style=\"font-weight: bold\"> Non-trainable params: </span><span style=\"color: #00af00; text-decoration-color: #00af00\">128</span> (512.00 B)\n",
       "</pre>\n"
      ],
      "text/plain": [
       "\u001b[1m Non-trainable params: \u001b[0m\u001b[38;5;34m128\u001b[0m (512.00 B)\n"
      ]
     },
     "metadata": {},
     "output_type": "display_data"
    }
   ],
   "source": [
    "from keras.layers import LSTM\n",
    "\n",
    "embedding_size = 100\n",
    "\n",
    "# Model: Enhanced LSTM with multiple layers\n",
    "model = Sequential()\n",
    "model.add(Embedding(vocab_sz + 1, embedding_size, mask_zero=True, input_length=maxlen))\n",
    "\n",
    "# Add the first LSTM layer\n",
    "model.add(LSTM(100, return_sequences=True,recurrent_dropout=0.2,dropout=0.2))  # Return sequences to pass to the next LSTM layer\n",
    "model.add(Dropout(0.3))  # Dropout to prevent overfitting\n",
    "\n",
    "# Add a second LSTM layer\n",
    "model.add(LSTM(100, return_sequences=True,recurrent_dropout=0.2,dropout=0.2))\n",
    "model.add(Dropout(0.3))\n",
    "\n",
    "# Add a third LSTM layer\n",
    "model.add(LSTM(100,recurrent_dropout=0.2,dropout=0.2))\n",
    "model.add(Dropout(0.3))\n",
    "\n",
    "# Add a fully connected layer\n",
    "model.add(Dense(64, activation='relu'))  # Intermediate dense layer for more learning capacity\n",
    "model.add(BatchNormalization())\n",
    "model.add(Dropout(0.3))\n",
    "model.add(Dense(5, activation='softmax'))  # For classification\n",
    "\n",
    "model.build(input_shape=(None, maxlen)) # None for batch size, maxlen for sequence length\n",
    "# Model summary\n",
    "model.summary()"
   ]
  },
  {
   "cell_type": "code",
   "execution_count": 31,
   "id": "cf602a67",
   "metadata": {
    "execution": {
     "iopub.execute_input": "2024-12-11T13:10:43.378148Z",
     "iopub.status.busy": "2024-12-11T13:10:43.377728Z",
     "iopub.status.idle": "2024-12-11T13:10:43.387797Z",
     "shell.execute_reply": "2024-12-11T13:10:43.386677Z"
    },
    "papermill": {
     "duration": 0.055383,
     "end_time": "2024-12-11T13:10:43.390276",
     "exception": false,
     "start_time": "2024-12-11T13:10:43.334893",
     "status": "completed"
    },
    "tags": []
   },
   "outputs": [],
   "source": [
    "model.compile(\n",
    "    loss='sparse_categorical_crossentropy', \n",
    "    optimizer='adam',\n",
    "    metrics=['accuracy']\n",
    ")"
   ]
  },
  {
   "cell_type": "code",
   "execution_count": 32,
   "id": "f3c9a604",
   "metadata": {
    "execution": {
     "iopub.execute_input": "2024-12-11T13:10:43.474999Z",
     "iopub.status.busy": "2024-12-11T13:10:43.474206Z",
     "iopub.status.idle": "2024-12-11T13:10:43.479783Z",
     "shell.execute_reply": "2024-12-11T13:10:43.478689Z"
    },
    "papermill": {
     "duration": 0.049905,
     "end_time": "2024-12-11T13:10:43.481918",
     "exception": false,
     "start_time": "2024-12-11T13:10:43.432013",
     "status": "completed"
    },
    "tags": []
   },
   "outputs": [],
   "source": [
    "checkpoint = EarlyStopping(monitor='val_loss',patience = 10 ,mode='max',restore_best_weights=True)\n",
    "callbacks_lst = [checkpoint]"
   ]
  },
  {
   "cell_type": "code",
   "execution_count": 33,
   "id": "c1a65197",
   "metadata": {
    "execution": {
     "iopub.execute_input": "2024-12-11T13:10:43.569958Z",
     "iopub.status.busy": "2024-12-11T13:10:43.569491Z",
     "iopub.status.idle": "2024-12-11T15:02:22.450534Z",
     "shell.execute_reply": "2024-12-11T15:02:22.448910Z"
    },
    "papermill": {
     "duration": 6698.930551,
     "end_time": "2024-12-11T15:02:22.453667",
     "exception": false,
     "start_time": "2024-12-11T13:10:43.523116",
     "status": "completed"
    },
    "tags": []
   },
   "outputs": [
    {
     "name": "stdout",
     "output_type": "stream",
     "text": [
      "Epoch 1/50\n",
      "\u001b[1m23/23\u001b[0m \u001b[32m━━━━━━━━━━━━━━━━━━━━\u001b[0m\u001b[37m\u001b[0m \u001b[1m604s\u001b[0m 26s/step - accuracy: 0.2330 - loss: 1.6120 - val_accuracy: 0.3652 - val_loss: 1.5964\n",
      "Epoch 2/50\n",
      "\u001b[1m23/23\u001b[0m \u001b[32m━━━━━━━━━━━━━━━━━━━━\u001b[0m\u001b[37m\u001b[0m \u001b[1m595s\u001b[0m 26s/step - accuracy: 0.4406 - loss: 1.3011 - val_accuracy: 0.5056 - val_loss: 1.5213\n",
      "Epoch 3/50\n",
      "\u001b[1m23/23\u001b[0m \u001b[32m━━━━━━━━━━━━━━━━━━━━\u001b[0m\u001b[37m\u001b[0m \u001b[1m603s\u001b[0m 26s/step - accuracy: 0.7440 - loss: 0.7145 - val_accuracy: 0.7669 - val_loss: 1.3499\n",
      "Epoch 4/50\n",
      "\u001b[1m23/23\u001b[0m \u001b[32m━━━━━━━━━━━━━━━━━━━━\u001b[0m\u001b[37m\u001b[0m \u001b[1m605s\u001b[0m 26s/step - accuracy: 0.9050 - loss: 0.2967 - val_accuracy: 0.8118 - val_loss: 1.1885\n",
      "Epoch 5/50\n",
      "\u001b[1m23/23\u001b[0m \u001b[32m━━━━━━━━━━━━━━━━━━━━\u001b[0m\u001b[37m\u001b[0m \u001b[1m607s\u001b[0m 26s/step - accuracy: 0.9635 - loss: 0.1361 - val_accuracy: 0.7893 - val_loss: 1.0332\n",
      "Epoch 6/50\n",
      "\u001b[1m23/23\u001b[0m \u001b[32m━━━━━━━━━━━━━━━━━━━━\u001b[0m\u001b[37m\u001b[0m \u001b[1m613s\u001b[0m 27s/step - accuracy: 0.9626 - loss: 0.1081 - val_accuracy: 0.7781 - val_loss: 0.9311\n",
      "Epoch 7/50\n",
      "\u001b[1m23/23\u001b[0m \u001b[32m━━━━━━━━━━━━━━━━━━━━\u001b[0m\u001b[37m\u001b[0m \u001b[1m608s\u001b[0m 26s/step - accuracy: 0.9808 - loss: 0.0662 - val_accuracy: 0.8034 - val_loss: 0.8086\n",
      "Epoch 8/50\n",
      "\u001b[1m23/23\u001b[0m \u001b[32m━━━━━━━━━━━━━━━━━━━━\u001b[0m\u001b[37m\u001b[0m \u001b[1m615s\u001b[0m 27s/step - accuracy: 0.9962 - loss: 0.0367 - val_accuracy: 0.7865 - val_loss: 0.7169\n",
      "Epoch 9/50\n",
      "\u001b[1m23/23\u001b[0m \u001b[32m━━━━━━━━━━━━━━━━━━━━\u001b[0m\u001b[37m\u001b[0m \u001b[1m612s\u001b[0m 27s/step - accuracy: 0.9986 - loss: 0.0247 - val_accuracy: 0.7949 - val_loss: 0.6215\n",
      "Epoch 10/50\n",
      "\u001b[1m23/23\u001b[0m \u001b[32m━━━━━━━━━━━━━━━━━━━━\u001b[0m\u001b[37m\u001b[0m \u001b[1m623s\u001b[0m 27s/step - accuracy: 0.9910 - loss: 0.0395 - val_accuracy: 0.7949 - val_loss: 0.5635\n",
      "Epoch 11/50\n",
      "\u001b[1m23/23\u001b[0m \u001b[32m━━━━━━━━━━━━━━━━━━━━\u001b[0m\u001b[37m\u001b[0m \u001b[1m616s\u001b[0m 27s/step - accuracy: 0.9899 - loss: 0.0526 - val_accuracy: 0.8062 - val_loss: 0.5840\n"
     ]
    }
   ],
   "source": [
    "history = model.fit(x_train, y_train,\n",
    "          batch_size=64,\n",
    "          epochs=50,\n",
    "          validation_split=0.2,\n",
    "          callbacks=callbacks_lst)"
   ]
  },
  {
   "cell_type": "code",
   "execution_count": 34,
   "id": "a852a0e2",
   "metadata": {
    "execution": {
     "iopub.execute_input": "2024-12-11T15:02:22.673366Z",
     "iopub.status.busy": "2024-12-11T15:02:22.672688Z",
     "iopub.status.idle": "2024-12-11T15:05:42.276032Z",
     "shell.execute_reply": "2024-12-11T15:05:42.274678Z"
    },
    "papermill": {
     "duration": 199.765964,
     "end_time": "2024-12-11T15:05:42.278373",
     "exception": false,
     "start_time": "2024-12-11T15:02:22.512409",
     "status": "completed"
    },
    "tags": []
   },
   "outputs": [
    {
     "name": "stdout",
     "output_type": "stream",
     "text": [
      "\u001b[1m56/56\u001b[0m \u001b[32m━━━━━━━━━━━━━━━━━━━━\u001b[0m\u001b[37m\u001b[0m \u001b[1m199s\u001b[0m 4s/step - accuracy: 0.3995 - loss: 1.5928\n",
      "Train Loss: 1.5933992862701416\n",
      "Train Accuracy: 0.3943820297718048\n"
     ]
    }
   ],
   "source": [
    "loss, accuracy = model.evaluate(x_train, y_train)\n",
    "\n",
    "print(f\"Train Loss: {loss}\")\n",
    "print(f\"Train Accuracy: {accuracy}\")\n"
   ]
  },
  {
   "cell_type": "code",
   "execution_count": 35,
   "id": "bae4e431",
   "metadata": {
    "execution": {
     "iopub.execute_input": "2024-12-11T15:05:42.411768Z",
     "iopub.status.busy": "2024-12-11T15:05:42.410725Z",
     "iopub.status.idle": "2024-12-11T15:06:31.701380Z",
     "shell.execute_reply": "2024-12-11T15:06:31.700204Z"
    },
    "papermill": {
     "duration": 49.357754,
     "end_time": "2024-12-11T15:06:31.703504",
     "exception": false,
     "start_time": "2024-12-11T15:05:42.345750",
     "status": "completed"
    },
    "tags": []
   },
   "outputs": [
    {
     "name": "stdout",
     "output_type": "stream",
     "text": [
      "\u001b[1m14/14\u001b[0m \u001b[32m━━━━━━━━━━━━━━━━━━━━\u001b[0m\u001b[37m\u001b[0m \u001b[1m49s\u001b[0m 4s/step - accuracy: 0.3684 - loss: 1.5956\n",
      "Test Loss: 1.5965845584869385\n",
      "Test Accuracy: 0.3595505654811859\n"
     ]
    }
   ],
   "source": [
    "loss, accuracy = model.evaluate(x_test, y_test)\n",
    "\n",
    "print(f\"Test Loss: {loss}\")\n",
    "print(f\"Test Accuracy: {accuracy}\")\n"
   ]
  },
  {
   "cell_type": "code",
   "execution_count": 36,
   "id": "606733e2",
   "metadata": {
    "execution": {
     "iopub.execute_input": "2024-12-11T15:06:31.826564Z",
     "iopub.status.busy": "2024-12-11T15:06:31.826140Z",
     "iopub.status.idle": "2024-12-11T15:06:32.141294Z",
     "shell.execute_reply": "2024-12-11T15:06:32.140052Z"
    },
    "papermill": {
     "duration": 0.379448,
     "end_time": "2024-12-11T15:06:32.143502",
     "exception": false,
     "start_time": "2024-12-11T15:06:31.764054",
     "status": "completed"
    },
    "tags": []
   },
   "outputs": [
    {
     "data": {
      "image/png": "[encoded data removed]",
      "text/plain": [
       "<Figure size 640x480 with 1 Axes>"
      ]
     },
     "metadata": {},
     "output_type": "display_data"
    }
   ],
   "source": [
    "\n",
    "acc = history.history['accuracy']\n",
    "val_acc = history.history['val_accuracy']\n",
    "loss = history.history['loss']\n",
    "val_loss = history.history['val_loss']\n",
    "\n",
    "epochs = range(1, len(acc) + 1)\n",
    "\n",
    "# \"bo\" is for \"blue dot\"\n",
    "plt.plot(epochs, loss, label='Training loss')\n",
    "# b is for \"solid blue line\"\n",
    "plt.plot(epochs, val_loss, label='Validation loss')\n",
    "plt.title('Training and validation loss')\n",
    "plt.xlabel('Epochs')\n",
    "plt.ylabel('Loss')\n",
    "plt.legend()\n",
    "\n",
    "plt.show()"
   ]
  },
  {
   "cell_type": "code",
   "execution_count": 37,
   "id": "ec11fb8b",
   "metadata": {
    "execution": {
     "iopub.execute_input": "2024-12-11T15:06:32.270168Z",
     "iopub.status.busy": "2024-12-11T15:06:32.269758Z",
     "iopub.status.idle": "2024-12-11T15:06:32.556174Z",
     "shell.execute_reply": "2024-12-11T15:06:32.555090Z"
    },
    "papermill": {
     "duration": 0.35231,
     "end_time": "2024-12-11T15:06:32.558369",
     "exception": false,
     "start_time": "2024-12-11T15:06:32.206059",
     "status": "completed"
    },
    "tags": []
   },
   "outputs": [
    {
     "data": {
      "image/png": "[encoded data removed]",
      "text/plain": [
       "<Figure size 640x480 with 1 Axes>"
      ]
     },
     "metadata": {},
     "output_type": "display_data"
    }
   ],
   "source": [
    "\n",
    "plt.clf()   # clear figure\n",
    "acc_values = history.history['accuracy']\n",
    "val_acc_values = history.history['val_accuracy']\n",
    "\n",
    "plt.plot(epochs, acc, label='Training acc')\n",
    "plt.plot(epochs, val_acc, label='Validation acc')\n",
    "plt.title('Training and validation accuracy')\n",
    "plt.xlabel('Epochs')\n",
    "plt.ylabel('Loss')\n",
    "plt.legend()\n",
    "\n",
    "plt.show()"
   ]
  }
 ],
 "metadata": {
  "kaggle": {
   "accelerator": "none",
   "dataSources": [
    {
     "datasetId": 4107678,
     "sourceId": 7121520,
     "sourceType": "datasetVersion"
    }
   ],
   "dockerImageVersionId": 30786,
   "isGpuEnabled": false,
   "isInternetEnabled": false,
   "language": "python",
   "sourceType": "notebook"
  },
  "kernelspec": {
   "display_name": "Python 3",
   "language": "python",
   "name": "python3"
  },
  "language_info": {
   "codemirror_mode": {
    "name": "ipython",
    "version": 3
   },
   "file_extension": ".py",
   "mimetype": "text/x-python",
   "name": "python",
   "nbconvert_exporter": "python",
   "pygments_lexer": "ipython3",
   "version": "3.10.14"
  },
  "papermill": {
   "default_parameters": {},
   "duration": 14189.32618,
   "end_time": "2024-12-11T15:06:36.878229",
   "environment_variables": {},
   "exception": null,
   "input_path": "__notebook__.ipynb",
   "output_path": "__notebook__.ipynb",
   "parameters": {},
   "start_time": "2024-12-11T11:10:07.552049",
   "version": "2.6.0"
  }
 },
 "nbformat": 4,
 "nbformat_minor": 5
}
